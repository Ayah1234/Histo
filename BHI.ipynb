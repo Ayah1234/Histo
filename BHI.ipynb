{
  "nbformat": 4,
  "nbformat_minor": 0,
  "metadata": {
    "colab": {
      "name": "BHI",
      "provenance": [],
      "collapsed_sections": [],
      "authorship_tag": "ABX9TyOEItvbQMbkGbqb/+9a8ynR",
      "include_colab_link": true
    },
    "kernelspec": {
      "display_name": "Python 3",
      "name": "python3"
    }
  },
  "cells": [
    {
      "cell_type": "markdown",
      "metadata": {
        "id": "view-in-github",
        "colab_type": "text"
      },
      "source": [
        "<a href=\"https://colab.research.google.com/github/Ayah1234/Histo/blob/Ayah1234-patch-1/BHI.ipynb\" target=\"_parent\"><img src=\"https://colab.research.google.com/assets/colab-badge.svg\" alt=\"Open In Colab\"/></a>"
      ]
    },
    {
      "cell_type": "code",
      "metadata": {
        "colab": {
          "base_uri": "https://localhost:8080/"
        },
        "id": "jwHbsKZ3GArQ",
        "outputId": "3525762d-8b78-45e9-a093-b20df3ac028f"
      },
      "source": [
        "from google.colab import drive\n",
        "drive.mount('/content/gdrive')"
      ],
      "execution_count": 1,
      "outputs": [
        {
          "output_type": "stream",
          "text": [
            "Mounted at /content/gdrive\n"
          ],
          "name": "stdout"
        }
      ]
    },
    {
      "cell_type": "code",
      "metadata": {
        "id": "AfxXFrajGeWq"
      },
      "source": [
        "from tensorflow.keras.layers import Dense,Dropout,BatchNormalization,Conv2D,MaxPool2D,Flatten\n",
        "from tensorflow.keras.preprocessing.image import ImageDataGenerator\n",
        "from sklearn.model_selection import train_test_split\n",
        "from tensorflow.keras.preprocessing import image\n",
        "from tensorflow.keras.optimizers import RMSprop\n",
        "from tensorflow.keras.utils import to_categorical\n",
        "from tensorflow.keras.models import Sequential\n",
        "from tensorflow.keras import regularizers\n",
        "import matplotlib.pyplot as plt\n",
        "%matplotlib inline\n",
        "import tensorflow  as tf\n",
        "import numpy as np \n",
        "import pandas as pd \n",
        "from PIL import Image\n",
        "from skimage.io import imread\n",
        "from os import listdir\n",
        "import seaborn as sns\n",
        "sns.set()\n",
        "import cv2\n",
        "import os\n",
        "\n"
      ],
      "execution_count": 2,
      "outputs": []
    },
    {
      "cell_type": "markdown",
      "metadata": {
        "id": "Bd5suuCiflmE"
      },
      "source": [
        "# **Read data.csv**"
      ]
    },
    {
      "cell_type": "code",
      "metadata": {
        "id": "y2GCAupofkNb"
      },
      "source": [
        "data = pd.read_csv('/content/gdrive/My Drive/Kaggle_dataset/data.csv')"
      ],
      "execution_count": 4,
      "outputs": []
    },
    {
      "cell_type": "markdown",
      "metadata": {
        "id": "f4tdLmzyFVPD"
      },
      "source": [
        "# **Prepare 50000 images for training**"
      ]
    },
    {
      "cell_type": "code",
      "metadata": {
        "id": "22U0x2TkkAuj"
      },
      "source": [
        "img_array50k = []\n",
        "labels_array50k =[] \n",
        "for p in range(50000):\n",
        "  img = np.array(imread(data.loc[p]['path']))\n",
        "  label = (data.loc[p]['label'])\n",
        "  img = np.resize(img, [50, 50,3])\n",
        "  img.astype('float32')\n",
        "  img = img/255\n",
        "  img_array50k.append(img)\n",
        "  labels_array50k.append(label) \n",
        "np.save('imgArray50k.npy',img_array50k)\n",
        "np.save('labelArray50k.npy',labels_array50k)\n",
        "!cp imgArray50k.npy labelArray50k.npy \"/content/gdrive/My Drive/Kaggle_dataset/\""
      ],
      "execution_count": null,
      "outputs": []
    },
    {
      "cell_type": "markdown",
      "metadata": {
        "id": "yWNn_g2I7bAc"
      },
      "source": [
        "# **Load image and labels arrays**"
      ]
    },
    {
      "cell_type": "code",
      "metadata": {
        "id": "L3k0D5hqpu_R"
      },
      "source": [
        "img_array = np.load('/content/gdrive/My Drive/Kaggle_dataset/imgArray50k.npy')\r\n",
        "labels_array = np.load('/content/gdrive/My Drive/Kaggle_dataset/labelArray50k.npy')"
      ],
      "execution_count": 7,
      "outputs": []
    },
    {
      "cell_type": "markdown",
      "metadata": {
        "id": "FJl1Dt4y7xZ6"
      },
      "source": [
        "# **Check the data balance** "
      ]
    },
    {
      "cell_type": "code",
      "metadata": {
        "colab": {
          "base_uri": "https://localhost:8080/",
          "height": 322
        },
        "id": "Ow_Sa2Di7w1q",
        "outputId": "71f25577-d811-4891-9199-129733f6bea4"
      },
      "source": [
        "sns.countplot(labels_array, palette=\"Set2\");"
      ],
      "execution_count": 5,
      "outputs": [
        {
          "output_type": "stream",
          "text": [
            "/usr/local/lib/python3.6/dist-packages/seaborn/_decorators.py:43: FutureWarning: Pass the following variable as a keyword arg: x. From version 0.12, the only valid positional argument will be `data`, and passing other arguments without an explicit keyword will result in an error or misinterpretation.\n",
            "  FutureWarning\n"
          ],
          "name": "stderr"
        },
        {
          "output_type": "display_data",
          "data": {
            "image/png": "[encoded data removed]",
            "text/plain": [
              "<Figure size 432x288 with 1 Axes>"
            ]
          },
          "metadata": {
            "tags": []
          }
        }
      ]
    },
    {
      "cell_type": "markdown",
      "metadata": {
        "id": "xC2UuAps73JF"
      },
      "source": [
        "# **Prepare train/test dataset..**"
      ]
    },
    {
      "cell_type": "code",
      "metadata": {
        "id": "JI35uc-fkmse"
      },
      "source": [
        "x=np.stack(img_array)\n",
        "y=to_categorical(labels_array)\n",
        "#y=labels_array\n",
        "train_images,test_images,train_labels,test_labels=train_test_split(x,y,random_state=0,test_size=0.2)"
      ],
      "execution_count": 8,
      "outputs": []
    },
    {
      "cell_type": "code",
      "metadata": {
        "id": "DttrACsfmp2c"
      },
      "source": [
        "model=Sequential([\n",
        "    Conv2D(64,(3,3),activation='relu',input_shape=(50,50,3)),\n",
        "    MaxPool2D((2,2)),\n",
        "    BatchNormalization(),\n",
        "    #Dropout(0.2),\n",
        "    Conv2D(128,(3,3),activation='relu',padding='same'),\n",
        "    MaxPool2D((2,2)),\n",
        "    BatchNormalization(),\n",
        "    #Dropout(0.25),\n",
        "    Conv2D(256,(3,3),activation='relu',padding='same'),\n",
        "    MaxPool2D((2,2)),\n",
        "    BatchNormalization(),\n",
        "    #Dropout(0.3),\n",
        "    Conv2D(512,(3,3),activation='relu',padding='same'),\n",
        "    MaxPool2D((2,2)),\n",
        "    BatchNormalization(),\n",
        "    #Dropout(0.2),\n",
        "    Flatten(),\n",
        "    Dense(1024,activation='relu'),\n",
        "    Dense(2,activation='sigmoid')\n",
        "])"
      ],
      "execution_count": 14,
      "outputs": []
    },
    {
      "cell_type": "code",
      "metadata": {
        "id": "dwvVdJ1onBTF"
      },
      "source": [
        "model.compile(optimizer='Adam',loss='mae',metrics=['acc'])"
      ],
      "execution_count": 15,
      "outputs": []
    },
    {
      "cell_type": "code",
      "metadata": {
        "id": "Cn3VR4HUnCN3",
        "colab": {
          "base_uri": "https://localhost:8080/"
        },
        "outputId": "ecb6a50e-ec1f-4fb5-e0ba-34cc49ab99c5"
      },
      "source": [
        "model.fit(train_images,train_labels,epochs=15,validation_split=0.3,batch_size=56)"
      ],
      "execution_count": 16,
      "outputs": [
        {
          "output_type": "stream",
          "text": [
            "Epoch 1/15\n",
            "500/500 [==============================] - 585s 1s/step - loss: 0.2178 - acc: 0.7850 - val_loss: 0.2442 - val_acc: 0.7558\n",
            "Epoch 2/15\n",
            "500/500 [==============================] - 586s 1s/step - loss: 0.2440 - acc: 0.7560 - val_loss: 0.2442 - val_acc: 0.7558\n",
            "Epoch 3/15\n",
            "500/500 [==============================] - 590s 1s/step - loss: 0.2440 - acc: 0.7560 - val_loss: 0.2442 - val_acc: 0.7558\n",
            "Epoch 4/15\n",
            "500/500 [==============================] - 591s 1s/step - loss: 0.2440 - acc: 0.7560 - val_loss: 0.2442 - val_acc: 0.7558\n",
            "Epoch 5/15\n",
            "500/500 [==============================] - 591s 1s/step - loss: 0.2440 - acc: 0.7560 - val_loss: 0.2442 - val_acc: 0.7558\n",
            "Epoch 6/15\n",
            "500/500 [==============================] - 590s 1s/step - loss: 0.2440 - acc: 0.7560 - val_loss: 0.2442 - val_acc: 0.7558\n",
            "Epoch 7/15\n",
            "500/500 [==============================] - 592s 1s/step - loss: 0.2440 - acc: 0.7560 - val_loss: 0.2442 - val_acc: 0.7558\n",
            "Epoch 8/15\n",
            "500/500 [==============================] - 588s 1s/step - loss: 0.2440 - acc: 0.7560 - val_loss: 0.2442 - val_acc: 0.7558\n",
            "Epoch 9/15\n",
            "500/500 [==============================] - 590s 1s/step - loss: 0.2440 - acc: 0.7560 - val_loss: 0.2442 - val_acc: 0.7558\n",
            "Epoch 10/15\n",
            "500/500 [==============================] - 587s 1s/step - loss: 0.2440 - acc: 0.7560 - val_loss: 0.2442 - val_acc: 0.7558\n",
            "Epoch 11/15\n",
            "500/500 [==============================] - 591s 1s/step - loss: 0.2440 - acc: 0.7560 - val_loss: 0.2442 - val_acc: 0.7558\n",
            "Epoch 12/15\n",
            "500/500 [==============================] - 591s 1s/step - loss: 0.2440 - acc: 0.7560 - val_loss: 0.2442 - val_acc: 0.7558\n",
            "Epoch 13/15\n",
            "500/500 [==============================] - 591s 1s/step - loss: 0.2440 - acc: 0.7560 - val_loss: 0.2442 - val_acc: 0.7558\n",
            "Epoch 14/15\n",
            "500/500 [==============================] - 592s 1s/step - loss: 0.2440 - acc: 0.7560 - val_loss: 0.2442 - val_acc: 0.7558\n",
            "Epoch 15/15\n",
            "500/500 [==============================] - 596s 1s/step - loss: 0.2440 - acc: 0.7560 - val_loss: 0.2442 - val_acc: 0.7558\n"
          ],
          "name": "stdout"
        },
        {
          "output_type": "execute_result",
          "data": {
            "text/plain": [
              "<tensorflow.python.keras.callbacks.History at 0x7fe01b659630>"
            ]
          },
          "metadata": {
            "tags": []
          },
          "execution_count": 16
        }
      ]
    },
    {
      "cell_type": "markdown",
      "metadata": {
        "id": "KjRzVtg1f7BD"
      },
      "source": [
        "# **Save the Trained Model**"
      ]
    },
    {
      "cell_type": "code",
      "metadata": {
        "id": "IA9ZLGVZnHL5",
        "colab": {
          "base_uri": "https://localhost:8080/"
        },
        "outputId": "ae19583b-bf1c-4377-f4a2-0d46b4d02d78"
      },
      "source": [
        "tf.keras.models.save_model(model,'/content/gdrive/My Drive/Kaggle_dataset/')"
      ],
      "execution_count": 18,
      "outputs": [
        {
          "output_type": "stream",
          "text": [
            "INFO:tensorflow:Assets written to: /content/gdrive/My Drive/Kaggle_dataset/assets\n"
          ],
          "name": "stdout"
        }
      ]
    },
    {
      "cell_type": "markdown",
      "metadata": {
        "id": "4VfvLSNw8blT"
      },
      "source": [
        "# **Load the Trained Model**"
      ]
    },
    {
      "cell_type": "code",
      "metadata": {
        "id": "T4QavUD4CToF"
      },
      "source": [
        "model = tf.keras.models.load_model('/content/gdrive/My Drive/Kaggle_dataset/')"
      ],
      "execution_count": 6,
      "outputs": []
    },
    {
      "cell_type": "markdown",
      "metadata": {
        "id": "3z_IV00i8jLX"
      },
      "source": [
        "# **Evaluate the model**"
      ]
    },
    {
      "cell_type": "code",
      "metadata": {
        "id": "TRuUa-znoV8L",
        "colab": {
          "base_uri": "https://localhost:8080/"
        },
        "outputId": "51ee6a84-2b8d-4882-cd9c-f697c91e8dde"
      },
      "source": [
        "loss,accuracy=model.evaluate(test_images,test_labels)"
      ],
      "execution_count": 19,
      "outputs": [
        {
          "output_type": "stream",
          "text": [
            "313/313 [==============================] - 48s 152ms/step - loss: 0.2464 - acc: 0.7536\n"
          ],
          "name": "stdout"
        }
      ]
    },
    {
      "cell_type": "code",
      "metadata": {
        "colab": {
          "base_uri": "https://localhost:8080/"
        },
        "id": "qDgasVGnXJ4M",
        "outputId": "698950b4-62c3-48e0-c3fe-47478ce28350"
      },
      "source": [
        "test_images.shape"
      ],
      "execution_count": 13,
      "outputs": [
        {
          "output_type": "execute_result",
          "data": {
            "text/plain": [
              "(10000, 50, 50, 3)"
            ]
          },
          "metadata": {
            "tags": []
          },
          "execution_count": 13
        }
      ]
    },
    {
      "cell_type": "markdown",
      "metadata": {
        "id": "8HX3tCOv8pul"
      },
      "source": [
        "# **Test the model**"
      ]
    },
    {
      "cell_type": "code",
      "metadata": {
        "colab": {
          "base_uri": "https://localhost:8080/"
        },
        "id": "GJ_ydOH669mc",
        "outputId": "3fd40078-6f16-46b8-d9e6-b444966b94a9"
      },
      "source": [
        "predictions = model.predict(test_images)\r\n",
        "print(predictions[0])"
      ],
      "execution_count": 20,
      "outputs": [
        {
          "output_type": "stream",
          "text": [
            "[[1. 0.]\n",
            " [1. 0.]\n",
            " [1. 0.]\n",
            " ...\n",
            " [1. 0.]\n",
            " [1. 0.]\n",
            " [1. 0.]]\n"
          ],
          "name": "stdout"
        }
      ]
    },
    {
      "cell_type": "code",
      "metadata": {
        "colab": {
          "base_uri": "https://localhost:8080/"
        },
        "id": "XuZKbIO36Ait",
        "outputId": "cab4b3dc-5844-44c6-a658-5bdb86e4d103"
      },
      "source": [
        "predictions[500]"
      ],
      "execution_count": 26,
      "outputs": [
        {
          "output_type": "execute_result",
          "data": {
            "text/plain": [
              "array([1., 0.], dtype=float32)"
            ]
          },
          "metadata": {
            "tags": []
          },
          "execution_count": 26
        }
      ]
    },
    {
      "cell_type": "code",
      "metadata": {
        "colab": {
          "base_uri": "https://localhost:8080/",
          "height": 270
        },
        "id": "meXER2qWezbT",
        "outputId": "6809b133-7922-46dc-ce91-8cfd304924e9"
      },
      "source": [
        "plt.figure()\r\n",
        "plt.imshow(test_images[500])\r\n",
        "plt.colorbar()\r\n",
        "plt.show()"
      ],
      "execution_count": 27,
      "outputs": [
        {
          "output_type": "display_data",
          "data": {
            "image/png": "[encoded data removed]",
            "text/plain": [
              "<Figure size 432x288 with 2 Axes>"
            ]
          },
          "metadata": {
            "tags": []
          }
        }
      ]
    }
  ]
}